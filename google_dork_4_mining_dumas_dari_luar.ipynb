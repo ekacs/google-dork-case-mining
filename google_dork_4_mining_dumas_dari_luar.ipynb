{
  "nbformat": 4,
  "nbformat_minor": 0,
  "metadata": {
    "colab": {
      "name": "google-dork 4 mining dumas dari luar.ipynb",
      "provenance": [],
      "collapsed_sections": [],
      "authorship_tag": "ABX9TyMaq/xbEJZZ8By0kMpGP1ec",
      "include_colab_link": true
    },
    "kernelspec": {
      "name": "python3",
      "display_name": "Python 3"
    },
    "language_info": {
      "name": "python"
    }
  },
  "cells": [
    {
      "cell_type": "markdown",
      "metadata": {
        "id": "view-in-github",
        "colab_type": "text"
      },
      "source": [
        "<a href=\"https://colab.research.google.com/github/ekacs/google-dork-case-mining/blob/main/google_dork_4_mining_dumas_dari_luar.ipynb\" target=\"_parent\"><img src=\"https://colab.research.google.com/assets/colab-badge.svg\" alt=\"Open In Colab\"/></a>"
      ]
    },
    {
      "cell_type": "code",
      "execution_count": null,
      "metadata": {
        "id": "3O8YJ4Fk5IXt"
      },
      "outputs": [],
      "source": [
        "#dont forget to make search tools range past yearly\n",
        "#u can using webharvy, but cons it can use just one day one activity :)\n",
        "\n",
        "#paste on search bar\n",
        "intext: \"nama_organisasi\" AND intext:\"liar\"\n",
        "#paste on address bar\n",
        "https://www.google.com/search?q=intext%3A%22nama+organisasi%22+AND+intext%3A%22liar%22&sxsrf=ALiCzsZC_KF7DQF-p1ZaH1AmnoKlJ-_vAQ%3A1658290430087&source=hp&ei=_oDXYoDoAoiL3LUPsNKWkAY&iflsig=AJiK0e8AAAAAYtePDhT7-E_sHhTn-HGPJb_zjnmOYjGB&ved=0ahUKEwiA35GgzYb5AhWIBbcAHTCpBWIQ4dUDCAw&oq=intext%3A%22nama+organisasi%22+AND+intext%3A%22liar%22&gs_lcp=Cgdnd3Mtd2l6EAw6BwgjEOoCECdKBQg8EgExUJ4EWJ4EYIYzaAJwAHgAgAG3AYgBhQSSAQMxLjOYAQCgAQKgAQGwAQo&sclient=gws-wiz\n",
        "\n",
        "#paste on search bar\n",
        "intext:\"nama organisasi\" AND intext:\"dugaan kasus\"\n",
        "#paste on address bar\n",
        "https://www.google.com/search?q=intext:%22nama+organisasi%22+AND+intext:%22dugaan+kasus%22&sxsrf=ALiCzsZ_egvq_oG83-1r8zQnj_TJq3csNw:1658290553544&source=lnt&tbs=qdr:y&sa=X&ved=2ahUKEwiti4PbzYb5AhVyHLcAHfurCikQpwV6BAgBEB4&biw=960&bih=930\n",
        "\n",
        "#paste on search bar\n",
        "intext:\"nama organisasi\" AND intext:\"perselingkuhan\"\n",
        "#paste on address bar\n",
        "https://www.google.com/search?q=intext%3A%22nama+organisasi%22+AND+intext%3A%22perselingkuhan%22&sxsrf=ALiCzsZLOT8VkEo6rVMffohcJPMhEE-LSw%3A1658290438220&ei=BoHXYufzDKWq8QO40ZegBg&ved=0ahUKEwjnjoSkzYb5AhUlVXwKHbjoBWQQ4dUDCA0&uact=5&oq=intext%3A%22nama+organisasi%22+AND+intext%3A%22perselingkuhan%22&gs_lcp=Cgdnd3Mtd2l6EANKBQg8EgE4SgQIQRgBSgQIRhgAUKmVAlie0QJgldgCaAhwAHgAgAFJiAG-BpIBAjE1mAEAoAEBwAEB&sclient=gws-wiz\n",
        "\n",
        "#paste on search bar\n",
        "intext:\"nama organisasi\" AND intext:\"suap\"\n",
        "#paste on address bar\n",
        "https://www.google.com/search?q=intext%3A%22nama+organisasi%22+AND+intext%3A%22suap%22&biw=960&bih=930&tbs=qdr%3Ay&sxsrf=ALiCzsYaPYMD8llqWXiwwEt6USSr30MB-w%3A1658290682365&ei=-oHXYuryFZjKz7sPreKOsAc&ved=0ahUKEwjq17mYzob5AhUY5XMBHS2xA3YQ4dUDCA0&uact=5&oq=intext%3A%22nama+organisasi%22+AND+intext%3A%22suap%22&gs_lcp=Cgdnd3Mtd2l6EANKBQg8EgEzSgQIQRgBSgQIRhgAUMV0WI93YIeAAWgDcAB4AIABT4gBlAKSAQE0mAEAoAEBwAEB&sclient=gws-wiz\n",
        "\n",
        "#paste on search bar\n",
        "intext:\"nama organisasi\" AND intext:\"mafia\"\n",
        "#paste on address bar\n",
        "https://www.google.com/search?q=intext%3A%22nama+organisasi%22+AND+intext%3A%22mafia%22&biw=960&bih=930&tbs=qdr%3Ay&sxsrf=ALiCzsbcH2tNCNAgqH667t_m8Thr31Y-iw%3A1658290760243&ei=SILXYvKwDpeHz7sP7rWM2As&ved=0ahUKEwjy9Mq9zob5AhWXw3MBHe4aA7sQ4dUDCA0&uact=5&oq=intext%3A%22nama+organisasi%22+AND+intext%3A%22mafia%22&gs_lcp=Cgdnd3Mtd2l6EANKBQg8EgE0SgQIQRgBSgQIRhgAUJ2DAVj6oQFgs6UBaARwAHgAgAFHiAH-A5IBATmYAQCgAQHAAQE&sclient=gws-wiz\n",
        "\n",
        "#paste on search bar\n",
        "intext:\"nama organisasi\" AND intext:\"persekongkolan\"\n",
        "#paste on address bar\n",
        "https://www.google.com/search?q=intext%3A%22nama+organisasi%22+AND+intext%3A%22persekongkolan%22&biw=960&bih=930&tbs=qdr%3Ay&sxsrf=ALiCzsaqrZo199bIHziua-_TSvNt3KipJQ%3A1658290786446&ei=YoLXYuzyGq7E3LUPptCloAo&ved=0ahUKEwjsq4rKzob5AhUuIrcAHSZoCaQQ4dUDCA0&oq=intext%3A%22nama+organisasi%22+AND+intext%3A%22persekongkolan%22&gs_lcp=Cgdnd3Mtd2l6EAxKBQg8EgE1SgQIQRgBSgQIRhgAUOBHWIRkYOJ3aAVwAHgAgAE-iAH9BZIBAjE0mAEAoAEBwAEB&sclient=gws-wiz\n",
        "\n",
        "#paste on search bar\n",
        "intext:\"nama organisasi\" AND intext:\"penipuan\"\n",
        "#paste on address bar\n",
        "https://www.google.com/search?q=intext%3A%22nama+organisasi%22+AND+intext%3A%22penipuan%22&biw=960&bih=930&tbs=qdr%3Ay&sxsrf=ALiCzsZ7d6BYVH80pRWKgfzlV_T2yEpofw%3A1658290835742&ei=k4LXYpbtLMbM3LUP5LammAs&ved=0ahUKEwjWgsvhzob5AhVGJrcAHWSbCbMQ4dUDCA0&uact=5&oq=intext%3A%22nama+organisasi%22+AND+intext%3A%22penipuan%22&gs_lcp=Cgdnd3Mtd2l6EAM6BwgAEEcQsANKBQg8EgE4SgQIQRgASgQIRhgAUIBOWIdhYKBkaAhwAXgAgAFEiAGTBJIBATmYAQCgAQHIAQjAAQE&sclient=gws-wiz\n",
        "\n",
        "\n",
        "\n",
        "\n",
        "\n"
      ]
    }
  ]
}